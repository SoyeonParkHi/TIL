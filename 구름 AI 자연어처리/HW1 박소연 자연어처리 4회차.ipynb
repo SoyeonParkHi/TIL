{
 "cells": [
  {
   "cell_type": "markdown",
   "id": "5de1ee5a",
   "metadata": {},
   "source": [
    "> 자연어처리 4회차 박소연\n",
    "# 과제 1. 나만의 python & 알고리즘 함수 만들기\n",
    "## 1. 파이썬 내장함수 만들기\n",
    "### 1-1. abs"
   ]
  },
  {
   "cell_type": "code",
   "execution_count": 7,
   "id": "0ee480cc",
   "metadata": {},
   "outputs": [
    {
     "name": "stdout",
     "output_type": "stream",
     "text": [
      "통과\n"
     ]
    }
   ],
   "source": [
    "def my_abs(number):\n",
    "    if number >= 0 :\n",
    "        return number\n",
    "    else :\n",
    "        return -number\n",
    "    \n",
    "test1 = 1.7\n",
    "test2 = -8\n",
    "assert abs(test1) == my_abs(test1)\n",
    "assert abs(test2) == my_abs(test2)\n",
    "print(\"통과\")"
   ]
  },
  {
   "cell_type": "markdown",
   "id": "a4744e6b",
   "metadata": {},
   "source": [
    "### 1-2. round"
   ]
  },
  {
   "cell_type": "code",
   "execution_count": 22,
   "id": "2c94ba4b",
   "metadata": {},
   "outputs": [
    {
     "name": "stdout",
     "output_type": "stream",
     "text": [
      "통과\n"
     ]
    }
   ],
   "source": [
    "def my_round(number, ndgits=None):\n",
    "    if ndgits == None :\n",
    "        ndgits = 0\n",
    "        \n",
    "    temp = int(number * 10 ** (ndgits + 1))\n",
    "    rest = temp % 10\n",
    "    \n",
    "    if rest >= 5 : \n",
    "        return (temp + (10 - rest)) / 10 ** (ndgits + 1)\n",
    "    else : \n",
    "        return (temp - rest) / 10 ** (ndgits + 1)\n",
    "\n",
    "test = 1.74789\n",
    "assert round(test) == my_round(test)\n",
    "assert round(test, 3) == my_round(test, 3)\n",
    "assert round(-test, 2) == my_round(-test, 2)\n",
    "print(\"통과\")"
   ]
  },
  {
   "cell_type": "markdown",
   "id": "c9664128",
   "metadata": {},
   "source": [
    "### 1-3. any"
   ]
  },
  {
   "cell_type": "code",
   "execution_count": 12,
   "id": "3bdd5d8e",
   "metadata": {},
   "outputs": [
    {
     "name": "stdout",
     "output_type": "stream",
     "text": [
      "통과\n"
     ]
    }
   ],
   "source": [
    "def my_any(iterable):\n",
    "    sum = 0\n",
    "    for element in iterable:\n",
    "        sum += element\n",
    "        return sum\n",
    "\n",
    "test1 = [True, 7 == 4, 'Something', False]\n",
    "test2 = [3 > 5, 10 != 10, False, '', None]\n",
    "assert any(test1) == my_any(test1)\n",
    "assert any(test2) == my_any(test2)\n",
    "print(\"통과\")"
   ]
  },
  {
   "cell_type": "markdown",
   "id": "af1030cd",
   "metadata": {},
   "source": [
    "### 1-4. enumerate"
   ]
  },
  {
   "cell_type": "code",
   "execution_count": 29,
   "id": "47bca3f2",
   "metadata": {
    "scrolled": false
   },
   "outputs": [
    {
     "name": "stdout",
     "output_type": "stream",
     "text": [
      "통과\n"
     ]
    }
   ],
   "source": [
    "def my_enumerate(sequence, start=0):\n",
    "    for i in sequence :\n",
    "        yield start, i\n",
    "        start += 1\n",
    "\n",
    "test1 = [60, 50, 20, 10]\n",
    "test2 = [True, None, 'test']\n",
    "assert list(enumerate(test1)) == list(my_enumerate(test1))\n",
    "assert list(enumerate(test2, 12)) == list(my_enumerate(test2, 12))\n",
    "print(\"통과\")"
   ]
  },
  {
   "cell_type": "markdown",
   "id": "80854b5f",
   "metadata": {},
   "source": [
    "### 1-5. max & min"
   ]
  },
  {
   "cell_type": "code",
   "execution_count": 77,
   "id": "493a2508",
   "metadata": {},
   "outputs": [
    {
     "name": "stdout",
     "output_type": "stream",
     "text": [
      "통과\n"
     ]
    }
   ],
   "source": [
    "def my_max(*args):\n",
    "    a, *b = args\n",
    "    if not b :\n",
    "        newarg = tuple(*args)\n",
    "    else :\n",
    "        newarg = args\n",
    "    temp = newarg[0]\n",
    "    for i in newarg :\n",
    "        if i >= temp :\n",
    "            temp = i\n",
    "    return temp\n",
    "\n",
    "def my_min(*args):\n",
    "    \n",
    "    a, *b = args\n",
    "    if not b :\n",
    "        newarg = tuple(*args)\n",
    "    else :\n",
    "        newarg = args\n",
    "    temp = newarg[0]\n",
    "    for i in newarg :\n",
    "        if i <= temp :\n",
    "            temp = i\n",
    "    return temp\n",
    "\n",
    "test = [7, 4, 2, 6, 8]\n",
    "assert max(test) == my_max(test) and min(test) == my_min(test)\n",
    "assert max(7, 4, 2, 5) == my_max(7, 4, 2, 5) and min(7, 4, 2, 5) == my_min(7, 4, 2, 5)\n",
    "print(\"통과\")"
   ]
  },
  {
   "cell_type": "markdown",
   "id": "0dc214b7",
   "metadata": {},
   "source": [
    "### 1-6. range"
   ]
  },
  {
   "cell_type": "code",
   "execution_count": 26,
   "id": "ddbe0b84",
   "metadata": {},
   "outputs": [
    {
     "name": "stdout",
     "output_type": "stream",
     "text": [
      "통과\n"
     ]
    }
   ],
   "source": [
    "def my_range(*args):\n",
    "    a,*b = args\n",
    "    if b == [] :\n",
    "        i = 0\n",
    "        while i < a :\n",
    "            yield i\n",
    "            i += 1\n",
    "    else : \n",
    "        c,*d = b\n",
    "        if d == [] :\n",
    "            i = a\n",
    "            while i < c :\n",
    "                yield i\n",
    "                i += 1\n",
    "        else : \n",
    "            i = a\n",
    "            if d[0] >= 0 :\n",
    "                while i < c :\n",
    "                    yield i\n",
    "                    i += d[0]\n",
    "            else :\n",
    "                while i > c :\n",
    "                    yield i\n",
    "                    i += d[0]\n",
    "\n",
    "assert list(range(10)) == list(my_range(10))\n",
    "assert list(range(3, 10)) == list(my_range(3, 10))\n",
    "assert list(range(3, 10, 2)) == list(my_range(3, 10, 2))\n",
    "assert list(range(10, 3, -2)) == list(my_range(10, 3, -2))\n",
    "print(\"통과\")"
   ]
  },
  {
   "cell_type": "markdown",
   "id": "5b602636",
   "metadata": {},
   "source": [
    "### 1-7. reversed"
   ]
  },
  {
   "cell_type": "code",
   "execution_count": 6,
   "id": "fca859ea",
   "metadata": {
    "scrolled": true
   },
   "outputs": [
    {
     "name": "stdout",
     "output_type": "stream",
     "text": [
      "통과\n"
     ]
    }
   ],
   "source": [
    "def my_reversed(seq):\n",
    "    len = 0\n",
    "    for i in seq :\n",
    "        len += 1\n",
    "    \n",
    "    for i in range(len) :\n",
    "        yield seq[len-i-1]\n",
    "\n",
    "test = [7, 4, 2, 6, 8]\n",
    "assert list(reversed(test)) == list(my_reversed(test))\n",
    "print(\"통과\")"
   ]
  },
  {
   "cell_type": "markdown",
   "id": "7645a6ee",
   "metadata": {},
   "source": [
    "### 1-8. filter"
   ]
  },
  {
   "cell_type": "code",
   "execution_count": 25,
   "id": "0dfb650e",
   "metadata": {},
   "outputs": [
    {
     "name": "stdout",
     "output_type": "stream",
     "text": [
      "통과\n"
     ]
    }
   ],
   "source": [
    "def my_filter(function, iterable):\n",
    "    for i in iterable :\n",
    "        if function(i) :\n",
    "            yield i\n",
    "\n",
    "def test_function(number):\n",
    "    return number > 5\n",
    "test = [1, 7, 5, 2, 9, 11]\n",
    "\n",
    "# 역슬래시 \"\\\"를 이용하면 평가식을 다음 줄로 나눌 수 있다.\n",
    "assert list(filter(test_function, test)) == list(my_filter(test_function, test)) \\\n",
    "    == list(filter(lambda x: x > 5, test))\n",
    "print(\"통과\")"
   ]
  },
  {
   "cell_type": "markdown",
   "id": "65ad5227",
   "metadata": {},
   "source": [
    "### 1-9. map"
   ]
  },
  {
   "cell_type": "code",
   "execution_count": 26,
   "id": "674ff88f",
   "metadata": {},
   "outputs": [
    {
     "name": "stdout",
     "output_type": "stream",
     "text": [
      "통과\n"
     ]
    }
   ],
   "source": [
    "def my_map(function, iterable):\n",
    "    for i in iterable : \n",
    "        yield function(i)\n",
    "\n",
    "def test_function(number):\n",
    "    return number * 2\n",
    "\n",
    "test = [1, 7, 5, 2, 9, 11]\n",
    "\n",
    "assert list(map(test_function, test)) == list(my_map(test_function, test)) \\\n",
    "    == list(map(lambda x: x * 2, test))\n",
    "print(\"통과\")"
   ]
  },
  {
   "cell_type": "markdown",
   "id": "7535784b",
   "metadata": {},
   "source": [
    "### 1-10. sum"
   ]
  },
  {
   "cell_type": "code",
   "execution_count": 29,
   "id": "f5502eb7",
   "metadata": {},
   "outputs": [
    {
     "name": "stdout",
     "output_type": "stream",
     "text": [
      "통과\n"
     ]
    }
   ],
   "source": [
    "def my_sum(iterable, start=0):\n",
    "    total = start\n",
    "    for i in iterable :\n",
    "        total += i\n",
    "    return total\n",
    "\n",
    "test = [7, 4, 2, 6, 8]\n",
    "assert sum(test) == my_sum(test)\n",
    "assert sum(range(10)) == my_sum(my_range(10))\n",
    "assert sum(filter(lambda x: x % 2, range(1, 20, 3))) \\\n",
    "    == my_sum(my_filter(lambda x: x % 2, my_range(1, 20, 3)))\n",
    "print(\"통과\")"
   ]
  },
  {
   "cell_type": "markdown",
   "id": "59d7bba4",
   "metadata": {},
   "source": [
    "### 1-11. zip"
   ]
  },
  {
   "cell_type": "code",
   "execution_count": 29,
   "id": "7026395f",
   "metadata": {},
   "outputs": [
    {
     "name": "stdout",
     "output_type": "stream",
     "text": [
      "통과\n"
     ]
    }
   ],
   "source": [
    "def my_zip(*iterables):\n",
    "    lenrow = 0\n",
    "    for i in iterables :\n",
    "        lenrow += 1\n",
    "    lencol = 0\n",
    "    for j in iterables[0] :\n",
    "        lencol += 1\n",
    "    for k in range(lencol) :\n",
    "        result = ()\n",
    "        for m in range(lenrow) :\n",
    "            result += (iterables[m][k],)\n",
    "        yield result\n",
    "\n",
    "test1 = (1, 2, 3)\n",
    "test2 = (10, 2, 30)\n",
    "assert list(zip(test1, test2)) == list(my_zip(test1, test2))\n",
    "\n",
    "test3 = [(10, 20, 30, 40), (55, 22, 66, 70), (False, True, True, False)]\n",
    "assert list(zip(*test3)) == list(my_zip(*test3))\n",
    "print(\"통과\")"
   ]
  },
  {
   "cell_type": "markdown",
   "id": "c09e6050",
   "metadata": {},
   "source": [
    "### 1-12. sorted"
   ]
  },
  {
   "cell_type": "code",
   "execution_count": 24,
   "id": "5fb86412",
   "metadata": {
    "scrolled": false
   },
   "outputs": [
    {
     "name": "stdout",
     "output_type": "stream",
     "text": [
      "통과\n"
     ]
    }
   ],
   "source": [
    "def my_sorted(iterable, key=None, reverse=False):\n",
    "    len = -1\n",
    "    for i in iterable :\n",
    "        len += 1\n",
    "    \n",
    "    i = j = 0\n",
    "    while i < len :\n",
    "        j = 0\n",
    "        while j < (len-i) :\n",
    "            if key :\n",
    "                if reverse :\n",
    "                    if key(iterable[j]) < key(iterable[j+1]) :\n",
    "                        iterable[j], iterable[j+1] = iterable[j+1], iterable[j]\n",
    "                else :\n",
    "                    if key(iterable[j]) > key(iterable[j+1]) :\n",
    "                        iterable[j], iterable[j+1] = iterable[j+1], iterable[j]\n",
    "            else : \n",
    "                if reverse :\n",
    "                    if iterable[j] < iterable[j+1] :\n",
    "                        iterable[j], iterable[j+1] = iterable[j+1], iterable[j]\n",
    "                else :\n",
    "                    if iterable[j] > iterable[j+1] :\n",
    "                        iterable[j], iterable[j+1] = iterable[j+1], iterable[j]\n",
    "            j+=1\n",
    "        i+=1\n",
    "    return iterable\n",
    "        \n",
    "\n",
    "test1 = [7, 4, 2, 6, 8]\n",
    "assert sorted(test1) == my_sorted(test1)\n",
    "test2 = [(1, 2), (6, 2), (5, 3), (10, 5)]\n",
    "assert sorted(test2) == my_sorted(test2) \\\n",
    "   and sorted(test2, reverse=True) == my_sorted(test2, reverse=True) \\\n",
    "   and sorted(test2, key=lambda x: x[1]) == my_sorted(test2, key=lambda x: x[1])\n",
    "print(\"통과\")"
   ]
  },
  {
   "cell_type": "markdown",
   "id": "4bc5fbff",
   "metadata": {},
   "source": [
    "## 2. 알고리즘 함수 만들기\n",
    "\n",
    "### 2-1. 피보나치 수열 만들기"
   ]
  },
  {
   "cell_type": "code",
   "execution_count": 30,
   "id": "0dc851ea",
   "metadata": {
    "scrolled": true
   },
   "outputs": [
    {
     "name": "stdout",
     "output_type": "stream",
     "text": [
      "통과\n"
     ]
    }
   ],
   "source": [
    "def fibonacci(number):\n",
    "    temp1 = temp2 = 1\n",
    "    for i in range(number) :\n",
    "        if i <= 1 :\n",
    "            yield temp1\n",
    "        else : \n",
    "            temp = temp1 + temp2\n",
    "            temp1, temp2 = temp2, temp\n",
    "            yield temp\n",
    "\n",
    "assert list(fibonacci(10)) == [1, 1, 2, 3, 5, 8, 13, 21, 34, 55]\n",
    "assert sum(fibonacci(5)) == 12\n",
    "print(\"통과\")"
   ]
  },
  {
   "cell_type": "markdown",
   "id": "eb9224f4",
   "metadata": {},
   "source": [
    "### 2-2. 순열 만들기"
   ]
  },
  {
   "cell_type": "code",
   "execution_count": 9,
   "id": "66b56524",
   "metadata": {},
   "outputs": [
    {
     "name": "stdout",
     "output_type": "stream",
     "text": [
      "통과\n"
     ]
    }
   ],
   "source": [
    "def my_permutations(seq, number):\n",
    "    len = 0\n",
    "    for i in seq :\n",
    "        len += 1\n",
    "    for j in range(len) :\n",
    "        if number == 1 :\n",
    "            yield (seq[j],)\n",
    "        else :\n",
    "            for k in my_permutations(seq[:j]+seq[j+1:],number-1) :\n",
    "                yield (seq[j],) + k\n",
    "        \n",
    "from itertools import permutations\n",
    "test = [1, 2, 3, 4]\n",
    "\n",
    "assert set(permutations(test, 2)) == set(my_permutations(test, 2)) \\\n",
    "   and set(permutations(test, 3)) == set(my_permutations(test, 3))\n",
    "print(\"통과\")"
   ]
  },
  {
   "cell_type": "markdown",
   "id": "00fefcf2",
   "metadata": {},
   "source": [
    "### 2-3. 조합 만들기"
   ]
  },
  {
   "cell_type": "code",
   "execution_count": 20,
   "id": "c3a00ae5",
   "metadata": {},
   "outputs": [
    {
     "name": "stdout",
     "output_type": "stream",
     "text": [
      "통과\n"
     ]
    }
   ],
   "source": [
    "def my_combinations(seq, number) : \n",
    "    len = 0\n",
    "    for i in seq :\n",
    "        len += 1\n",
    "    for j in range(len) :\n",
    "        if number == 1 :\n",
    "            yield (seq[j],)\n",
    "        else :\n",
    "            for k in my_combinations(seq[j+1:],number-1) :\n",
    "                yield (seq[j],) + k\n",
    "                \n",
    "from itertools import combinations\n",
    "test = [1, 2, 3, 4]\n",
    "\n",
    "assert set(combinations(test, 2)) == set(my_combinations(test, 2)) \\\n",
    "   and set(combinations(test, 3)) == set(my_combinations(test, 3))\n",
    "print(\"통과\") "
   ]
  }
 ],
 "metadata": {
  "kernelspec": {
   "display_name": "Python 3 (ipykernel)",
   "language": "python",
   "name": "python3"
  },
  "language_info": {
   "codemirror_mode": {
    "name": "ipython",
    "version": 3
   },
   "file_extension": ".py",
   "mimetype": "text/x-python",
   "name": "python",
   "nbconvert_exporter": "python",
   "pygments_lexer": "ipython3",
   "version": "3.9.7"
  },
  "toc": {
   "base_numbering": 1,
   "nav_menu": {},
   "number_sections": true,
   "sideBar": true,
   "skip_h1_title": false,
   "title_cell": "Table of Contents",
   "title_sidebar": "Contents",
   "toc_cell": false,
   "toc_position": {},
   "toc_section_display": true,
   "toc_window_display": false
  }
 },
 "nbformat": 4,
 "nbformat_minor": 5
}
