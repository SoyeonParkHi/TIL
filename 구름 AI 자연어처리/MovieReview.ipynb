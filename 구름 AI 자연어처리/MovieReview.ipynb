{
 "cells": [
  {
   "cell_type": "code",
   "execution_count": null,
   "id": "b1eb8113",
   "metadata": {},
   "outputs": [],
   "source": [
    "class MovieReview(RawMovieReview) :\n",
    "    def __init__(self, score_threadhold : int, file_name : str = 'samples.csv') :\n",
    "        super().__init__(file_name)\n",
    "        self.score_threadhold = score_threadhold\n",
    "    def __getitem__(self, index) :\n",
    "        review = super().__getitem__(index)\n",
    "        if review[2] >= self.score_threadhold :\n",
    "            ox = True\n",
    "        else : ox = False\n",
    "        return review[1].strip(), ox"
   ]
  }
 ],
 "metadata": {
  "kernelspec": {
   "display_name": "Python 3 (ipykernel)",
   "language": "python",
   "name": "python3"
  },
  "language_info": {
   "codemirror_mode": {
    "name": "ipython",
    "version": 3
   },
   "file_extension": ".py",
   "mimetype": "text/x-python",
   "name": "python",
   "nbconvert_exporter": "python",
   "pygments_lexer": "ipython3",
   "version": "3.9.7"
  },
  "toc": {
   "base_numbering": 1,
   "nav_menu": {},
   "number_sections": true,
   "sideBar": true,
   "skip_h1_title": false,
   "title_cell": "Table of Contents",
   "title_sidebar": "Contents",
   "toc_cell": false,
   "toc_position": {},
   "toc_section_display": true,
   "toc_window_display": false
  }
 },
 "nbformat": 4,
 "nbformat_minor": 5
}
