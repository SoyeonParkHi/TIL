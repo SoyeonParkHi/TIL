{
 "cells": [
  {
   "cell_type": "markdown",
   "metadata": {
    "id": "7UDJgH77FkFV"
   },
   "source": [
    "# Linear Algebra Quiz1\n",
    "\n",
    "> 해당 퀴즈에서는 강의에서 직접적으로 다루지 않은 문제들도 포함되어 있습니다. 성취도 확인용으로 진행되는 시험이니 한 주 동안 배운 내용을 복습하고 새로운 문제들을 공부하는 데 의미를 두시면 좋을 것 같습니다. 계산이 필요할 경우 손으로 계산하셔도 되고, 각자 colab을 켜서 numpy 등의 package를 사용하셔도 됩니다."
   ]
  },
  {
   "cell_type": "code",
   "execution_count": 1,
   "metadata": {},
   "outputs": [],
   "source": [
    "import numpy as np"
   ]
  },
  {
   "cell_type": "markdown",
   "metadata": {
    "id": "OytW8x6ZGNWg"
   },
   "source": [
    "## 다음 명제에 대해, True/False를 판단하시오. True일 경우 간략하게 이유를 서술하고, False일 경우 간략하게 이유를 설명하거나 반례를 드시오.\n",
    "\n",
    "\\\\\n",
    "\n",
    "행렬 $A,B$에 대해\n",
    "\n",
    "\\\\\n",
    "\n",
    "1. $A$와 $B$가 invertible 하다면, $(AB)^{-1} = A^{-1}B^{-1}$이 성립한다. \\\\\n",
    "\n"
   ]
  },
  {
   "cell_type": "markdown",
   "metadata": {
    "id": "87k24axTLS-D"
   },
   "source": [
    "A: False\n",
    "\n",
    "반례는 다음과 같다."
   ]
  },
  {
   "cell_type": "code",
   "execution_count": 5,
   "metadata": {
    "scrolled": true
   },
   "outputs": [
    {
     "name": "stdout",
     "output_type": "stream",
     "text": [
      "AB_inv : \n",
      "[[ 12.5   -5.5 ]\n",
      " [-10.75   4.75]]\n",
      "A_inv * B_inv : \n",
      "[[11.5  -8.5 ]\n",
      " [-7.75  5.75]]\n"
     ]
    }
   ],
   "source": [
    "A = np.array([[1,2],[3,4]])\n",
    "B = np.array([[5,6],[7,8]])\n",
    "A_inv = np.linalg.inv(A)\n",
    "B_inv = np.linalg.inv(B)\n",
    "AB_inv = np.linalg.inv(A@B)\n",
    "print('AB_inv : ',AB_inv, 'A_inv * B_inv : ',A_inv@B_inv,sep='\\n')"
   ]
  },
  {
   "cell_type": "markdown",
   "metadata": {},
   "source": [
    "***"
   ]
  },
  {
   "cell_type": "markdown",
   "metadata": {
    "id": "sKeXz3edLNgq"
   },
   "source": [
    "2. $\\begin{bmatrix} 1 & 1 \\\\ 0 & 1 \\\\ 0 & 0 \\end{bmatrix} \\begin{bmatrix}x1\\\\x2\\end{bmatrix} = \\begin{bmatrix} 3 \\\\ 1 \\\\ 0\\end{bmatrix}$는 해가 존재한다. \\\\"
   ]
  },
  {
   "cell_type": "markdown",
   "metadata": {
    "id": "MJSRde5dLSes"
   },
   "source": [
    "A: True\n",
    "\n",
    "해는 [x1, x2] = [2, 1]이다. 미지수가 2개이고 방정식이 3개이나, 3행은 모두 0이므로 방정식이 2개인 것과 같다.\n",
    "\n",
    "---"
   ]
  },
  {
   "cell_type": "markdown",
   "metadata": {
    "id": "QiMjE83JLPCI"
   },
   "source": [
    "3. $\\begin{bmatrix} 1 & 1 \\\\ 0 & 1 \\\\ 0 & 0 \\end{bmatrix} \\begin{bmatrix}x1\\\\x2\\end{bmatrix} = \\begin{bmatrix} 3 \\\\ 1 \\\\ 1\\end{bmatrix}$은 해가 존재한다. \\\\\n"
   ]
  },
  {
   "cell_type": "markdown",
   "metadata": {
    "id": "PJ504uRwLSJ7"
   },
   "source": [
    "A: False\n",
    "\n",
    "미지수가 두개인데 방정식은 3개이고, 3행은 0\\*x1 + 0\\*x2 = 1이므로 이를 만족하는 [x1, x2]는 존재하지 않는다.\n",
    "\n",
    "---\n"
   ]
  },
  {
   "cell_type": "markdown",
   "metadata": {
    "id": "hDaT_j6BKIYo"
   },
   "source": [
    "4. $\\begin{bmatrix} 3 & 2 \\\\ 5 & 1 \\\\ 0 & 0 \\end{bmatrix}$의 column space는 span($\\{ \\begin{bmatrix} 1 \\\\ 0 \\\\ 0\\end{bmatrix}, \\begin{bmatrix} 0 \\\\ 1 \\\\ 0\\end{bmatrix}\\}$)과 같다. \\\\"
   ]
  },
  {
   "cell_type": "markdown",
   "metadata": {
    "id": "KSjmyiTBLVMJ"
   },
   "source": [
    "A: True\n",
    "\n",
    "위 행렬의 백터는 3행의 성분이 0이므로, 3차원 좌표에서 생각했을 때 column space는 xy평면이다. 그러므로 span({i,j})와 같다.\n",
    "\n",
    "---\n",
    "\n"
   ]
  },
  {
   "cell_type": "markdown",
   "metadata": {
    "id": "6iNk1_IiLVoS"
   },
   "source": [
    "5. $R^2$는 $R^3$의 subspace이다."
   ]
  },
  {
   "cell_type": "markdown",
   "metadata": {
    "id": "SXuttmbKLXXa"
   },
   "source": [
    "A: True\n",
    "\n",
    "R^3는 R^2를 포함하므로 subspace이다.\n",
    "\n",
    "---"
   ]
  },
  {
   "cell_type": "markdown",
   "metadata": {
    "id": "kc17U-h9LUQh"
   },
   "source": [
    "6. Vector $x \\in R^2$에 대한 Transformation $T_1$: (1) x축에 대해 reflection 후 (2) y축에 대해 reflection. \\\\\n",
    " Vector $x \\in R^2$에 대한 Transformatiopn $T_2$: 시계방향으로 180도 회전. \\\\\n",
    " 이때 $T_1$은 $T_2$와 같다. \\\\"
   ]
  },
  {
   "cell_type": "markdown",
   "metadata": {
    "id": "BC28Z883LaKW"
   },
   "source": [
    "A: True\n",
    "\n",
    "x = [a, b]라고 했을 때 T1과 T2로 변환한 x는 [-a, -b]로 같다.\n",
    "\n",
    "---"
   ]
  },
  {
   "cell_type": "markdown",
   "metadata": {
    "id": "fXTB1ua6KGWT"
   },
   "source": [
    "7. A,B가 각각 invertible하면, $(A+B)^{-1} = A^{-1} + B^{-1}$ 이다."
   ]
  },
  {
   "cell_type": "markdown",
   "metadata": {
    "id": "Hr6CAJ7OLblJ"
   },
   "source": [
    "A: False\n",
    "\n",
    "반례는 다음과 같다."
   ]
  },
  {
   "cell_type": "code",
   "execution_count": 6,
   "metadata": {
    "scrolled": true
   },
   "outputs": [
    {
     "name": "stdout",
     "output_type": "stream",
     "text": [
      "A+B inv : \n",
      "[[-1.5   1.  ]\n",
      " [ 1.25 -0.75]]\n",
      "A inv + B inv\n",
      "[[-6.  4.]\n",
      " [ 5. -3.]]\n"
     ]
    }
   ],
   "source": [
    "AplusB_inv = np.linalg.inv(A+B)\n",
    "print('A+B inv : ',AplusB_inv, 'A inv + B inv',A_inv + B_inv, sep='\\n')"
   ]
  },
  {
   "cell_type": "markdown",
   "metadata": {},
   "source": [
    "---"
   ]
  },
  {
   "cell_type": "markdown",
   "metadata": {
    "id": "yHG2CI26LkeH"
   },
   "source": [
    "8. $T(x) = Ax = \\begin{bmatrix} 3 & 2 \\\\ 5 & 1 \\\\ 0 & 0 \\end{bmatrix}\\begin{bmatrix}x_1\\\\x_2\\end{bmatrix}$는 $R^2$에서 $R^3$으로 ONTO mapping하는 transformation이다."
   ]
  },
  {
   "cell_type": "markdown",
   "metadata": {
    "id": "ESCBKi1CMys3"
   },
   "source": [
    "A: False\n",
    "\n",
    "\n",
    "A의 3행이 모두 0이므로, T(x) 벡터의 3행 성분도 0이 되고 결과적으로 T(x)의 치역은 xy 평면이 된다.\n",
    "\n",
    "---\n",
    "\n"
   ]
  },
  {
   "cell_type": "markdown",
   "metadata": {
    "id": "TSUQ1dZHM0Jt"
   },
   "source": [
    "9. $T(x) = Ax = \\begin{bmatrix} 3 & 2 \\\\ 5 & 1 \\\\ 0 & 0 \\end{bmatrix}\\begin{bmatrix}x_1\\\\x_2\\end{bmatrix}$는 $R^2$에서 $R^3$으로 one-to-one mapping하는 transformation이다."
   ]
  },
  {
   "cell_type": "markdown",
   "metadata": {
    "id": "BToGQpKpM4ja"
   },
   "source": [
    "A: True\n",
    "\n",
    "A를 [3,5,0]과 [2,1,0]의 종벡터로 보았을 때, 두 벡터는 linearly independent하고 xy평면에 one-to-one mapping한다.\n",
    "\n",
    "---\n"
   ]
  },
  {
   "cell_type": "markdown",
   "metadata": {
    "id": "wDVr916dFx0s"
   },
   "source": [
    "10. $T(x) = Ax = \\begin{bmatrix} 1 & 0 &0&5&0\\\\ 0 & 1 &0&1&0\\\\ 0 & 0&1&0&0\\\\0&0&0&0&1 \\end{bmatrix}\\begin{bmatrix}x_1\\\\x_2\\\\x_3\\\\x_4\\\\x_5\\end{bmatrix}$는 $R^5$에서 $R^4$으로 ONTO mapping하는 transformation이다."
   ]
  },
  {
   "cell_type": "markdown",
   "metadata": {
    "id": "NxWInuOKOoT0"
   },
   "source": [
    "A. True\n",
    "\n",
    "A 행렬을 구성하는 종벡터는 R^4의 단위벡터를 포함하므로, T(x)는 R^4에 전사한다.\n",
    "\n",
    "---\n"
   ]
  },
  {
   "cell_type": "markdown",
   "metadata": {
    "id": "ILg0hNiCOqyj"
   },
   "source": [
    "11. $T(x) = Ax = \\begin{bmatrix} 1 & 0 &0&5&0\\\\ 0 & 1 &0&1&0\\\\ 0 & 0&1&0&0\\\\0&0&0&0&1 \\end{bmatrix}\\begin{bmatrix}x_1\\\\x_2\\\\x_3\\\\x_4\\\\x_5\\end{bmatrix}$는 $R^5$에서 $R^4$으로 one-to-one mapping하는 transformation이다."
   ]
  },
  {
   "cell_type": "markdown",
   "metadata": {
    "id": "MkcXZLycOwa5"
   },
   "source": [
    "A. False\n",
    "\n",
    "R^4에서의 한 지점을 T(x) 값으로 정했을 때, 이를 만족하는 x는 한개가 아니다. 미지수는 5개고 방정식은 4개일 때, 해가 무수히 많음을 통해서도 알 수 있다.\n",
    "\n",
    "---\n",
    "\n"
   ]
  },
  {
   "cell_type": "markdown",
   "metadata": {
    "id": "dB-AgyBNOuRF"
   },
   "source": [
    "12. $T: R^n \\rightarrow R^n$ 인 $T$가 one-to-one linear transformation이면, $T$는 ONTO linear transformation이다."
   ]
  },
  {
   "cell_type": "markdown",
   "metadata": {
    "id": "GUh4yO_rPdbz"
   },
   "source": [
    "A. True  \n",
    "정의역과 공역의 차원이 같고, one-to-one이라면, T는 linearly independent하다. 같은 차원에서 무한한 정의역에 대해 일대일 대응이 성립하려면 T는 onto이다.\n",
    "\n",
    "---\n"
   ]
  },
  {
   "cell_type": "markdown",
   "metadata": {
    "id": "OqHGwpcNPe8A"
   },
   "source": [
    "13. $T: R^n \\rightarrow R^n$ 인 $T$가 ONTO linear transformation이면, $T$는 one-to-one linear transformation이다."
   ]
  },
  {
   "cell_type": "markdown",
   "metadata": {
    "id": "fCErzrXoPjYd"
   },
   "source": [
    "A. True\n",
    "\n",
    "정의역과 공역의 차원이 같고, onto이므로 공역과 치역이 같다. Ax = b에서 n\\*n 행렬인 A로 R^n 차원의 모든 b를 만들 수 있다면, A를 구성하는 n개의 종벡터는 linearly independent하고 이는 one-to-one임을 의미한다.\n",
    "\n",
    "---\n"
   ]
  },
  {
   "cell_type": "markdown",
   "metadata": {
    "id": "IoN8YpEmPk0d"
   },
   "source": [
    "14. $A$가 $n \\times n$ matrix이면서 rank가 $n$인 경우, $A$는 invertible 하다."
   ]
  },
  {
   "cell_type": "markdown",
   "metadata": {
    "id": "QxrBJ8MzXhlm"
   },
   "source": [
    "A. True  \n",
    "rank가 n이므로 A의 벡터들은 모두 linearly independent하다. A는 정방행렬이므로 invertible하다.\n",
    "\n",
    "---\n",
    "\n"
   ]
  },
  {
   "cell_type": "markdown",
   "metadata": {
    "id": "zeIEt1kGXlgO"
   },
   "source": [
    "15. $A = \\begin{bmatrix} 1 & 1 & 1\\\\ 2 & 2& 2 \\\\ 3 & 3& 3 \\end{bmatrix}$은 invertible하지 않다."
   ]
  },
  {
   "cell_type": "markdown",
   "metadata": {
    "id": "kXRcSYA6YmGd"
   },
   "source": [
    "A. True  \n",
    "A는 같은 종벡터 [1,2,3]로 구성되어 있으므로 각 벡터는 선형의존적이고, 이는 invertible하지 않다.\n",
    "\n",
    "---\n",
    "\n"
   ]
  },
  {
   "cell_type": "markdown",
   "metadata": {
    "id": "-b61bc66Ymix"
   },
   "source": [
    "16. $A$와 $B$의 rank가 같다면, 두 matrix의 shape은 같다."
   ]
  },
  {
   "cell_type": "markdown",
   "metadata": {
    "id": "sTNrUS7oZfSe"
   },
   "source": [
    "A. False  \n",
    "rank가 같아도 선형의존적인 벡터가 있다면 shape이 달라질 수 있다.\n",
    "\n",
    "---\n",
    "\n"
   ]
  },
  {
   "cell_type": "markdown",
   "metadata": {
    "id": "z0pZv776ZgHn"
   },
   "source": [
    "17. $AB = BC$이면, $B=C$이다."
   ]
  },
  {
   "cell_type": "markdown",
   "metadata": {
    "id": "5tM8vpIyZhs3"
   },
   "source": [
    "A. False  \n",
    "행렬에서의 교환법칙은 성립하지 않는다. 또한 A, B, C가 invertible한지 알 수 없다.\n",
    "\n",
    "---\n",
    "\n"
   ]
  },
  {
   "cell_type": "markdown",
   "metadata": {
    "id": "Y0_zeisxZt8v"
   },
   "source": [
    "18. $B = A^TA$이면, $B$는 symmetric matrix이다."
   ]
  },
  {
   "cell_type": "markdown",
   "metadata": {
    "id": "HF98eLXsZ79T"
   },
   "source": [
    "A. True  \n",
    "B의 성분인 Bij와 Bji를 생각해보자.\n",
    "Bij는 A^T의 i행과 A의 j열의 성분을 각각 곱해 더한 값이고,\n",
    "Bji는 A^T의 j행과 A의 i열의 성분을 각각 곱해 더한 값이다.\n",
    "A^T는 A의 전치행렬이므로, A^T의 i행과 A의 i열은 같다. 마찬가지로 A^T의 j행과 A의 j열은 같으므로, B에 대해 모든 Bij=Bji는 성립한다.\n",
    "\n",
    "---\n"
   ]
  },
  {
   "cell_type": "markdown",
   "metadata": {
    "id": "YB9qNFIDZvpn"
   },
   "source": [
    "19. Vector $v_1, v_2, v_3, v_4, v_5$가 $R^5$를 span한다면, 저 다섯 vector는 서로 linearly independent하다."
   ]
  },
  {
   "cell_type": "markdown",
   "metadata": {
    "id": "cnDN-ri_c7eQ"
   },
   "source": [
    "A. True  \n",
    "5개의 벡터가 서로 선형 의존적이라면, 5차원을 span할 수 없다.\n",
    "\n",
    "---\n",
    "\n"
   ]
  },
  {
   "cell_type": "markdown",
   "metadata": {
    "id": "MA13PNouc8F-"
   },
   "source": [
    "20. $v_1, v_2, v_3 \\in R^3$인 세 vector가 서로 linearly dependent 하다면, 세 vector를 칼럼으로 하는 matrix $A = \\begin{bmatrix} \\mid & \\mid & \\mid \\\\ v_1 & v_2 & v_3 \\\\ \\mid & \\mid & \\mid  \\end{bmatrix}$는 invertible하지 않다."
   ]
  },
  {
   "cell_type": "markdown",
   "metadata": {
    "id": "IT_-fvEVZ54x"
   },
   "source": [
    "A. True  \n",
    "\n",
    "행렬 A가 invertible하기 위해서는, 행렬을 구성하는 모든 종행렬이 linearly independent해야 한다.\n",
    "\n",
    "---\n",
    "\n"
   ]
  },
  {
   "cell_type": "markdown",
   "metadata": {
    "id": "ne3rE5yWaJNb"
   },
   "source": [
    "21. $v_1, v_2 \\in R^3$인 두 vector가 span하는 subspace는 평면이다 (2 dimensional subspace)."
   ]
  },
  {
   "cell_type": "markdown",
   "metadata": {
    "id": "8Rx_9cMxaw4d"
   },
   "source": [
    "A. False  \n",
    "두 3차원 벡터가 선형독립적이라면 span은 평면이 되지만, 선형의존적이라면 span은 직선이 된다.\n",
    "반례를 들자면 v1 = [1,2,3], v2 = [2,4,6]이라면 v1과 v2의 span은 (1,2,3)을 지나는 직선이다.\n",
    "\n",
    "---\n",
    "\n"
   ]
  },
  {
   "cell_type": "markdown",
   "metadata": {
    "id": "PCaKfiFOaxpe"
   },
   "source": [
    "22. Normal equation은 해가 항상 존재한다."
   ]
  },
  {
   "cell_type": "markdown",
   "metadata": {
    "id": "iLTgqoAoeDgC"
   },
   "source": [
    "A. True  \n",
    "b = Ax에서 A의 column space 밖의 점 b_hat에서 column space로의 법선은 항상 존재하기 때문이다.\n",
    "\n",
    "---\n",
    "\n"
   ]
  },
  {
   "cell_type": "markdown",
   "metadata": {
    "id": "2UI1Hy5qeECr"
   },
   "source": [
    "23. $m \\times n$ matrix $A$의 column vector $v_1,v_2, \\cdots, v_n$이 orthonormal 하다면,  $AA^Tx$는 $x$를 Col $A$에 orthogonal projection하는 matrix이다."
   ]
  },
  {
   "cell_type": "markdown",
   "metadata": {
    "id": "ztK4wjlFaJXc"
   },
   "source": [
    " A. False  \n",
    " 반례로 $A = \\begin{bmatrix} 1 & 0 \\\\ 0 & 1 \\\\ 0 & 0 \\end{bmatrix}$을 생각해보자. $A^T = \\begin{bmatrix} 1 & 0 & 0 \\\\ 0 & 1 & 0  \\end{bmatrix}$이므로 $AA^T = \\begin{bmatrix} 1 & 0 & 0 \\\\ 0 & 1 & 0 \\\\ 0 & 0 & 0 \\end{bmatrix}$이다. Col $A$와 Col $AA^T$는 xy평면으로 같다.\n",
    "\n",
    "---\n",
    "\n"
   ]
  },
  {
   "cell_type": "markdown",
   "metadata": {
    "id": "UASni6U232y8"
   },
   "source": [
    "24. $m \\times n$ matrix $A$의 column vector $v_1,v_2, \\cdots, v_n$이 서로 linearly independent 하다고 하자. 그렇다면 $v_1,v_2, \\cdots, v_n$에 Gram-Schmidt를 적용하면 Col $A$의 orthogonal basis가 된다."
   ]
  },
  {
   "cell_type": "markdown",
   "metadata": {
    "id": "m_aJk5EK348-"
   },
   "source": [
    "A. True  \n",
    "v1, ..., vn이 서로 선형독립적이라면 n차원을 span할 것이고, v1을 고정시켜 Gram-Schmidt를 적용하면 Col A를 span하는 n차원의 orthogonal basis가 된다.\n",
    "\n",
    "---\n",
    "\n"
   ]
  },
  {
   "cell_type": "markdown",
   "metadata": {
    "id": "P4Nf84rW35oP"
   },
   "source": [
    "25. Subspace $V$ = span ($\\Bigg\\{ \\begin{bmatrix} 3 \\\\ 1 \\\\ 0\\end{bmatrix}\\, \\begin{bmatrix} 1 \\\\ 2 \\\\ 0\\end{bmatrix}\\Bigg\\}$)라고 하자. 이때 ($\\Bigg\\{ \\begin{bmatrix} 1 \\\\ 1 \\\\ 0\\end{bmatrix}\\, \\begin{bmatrix} 0 \\\\ 0 \\\\ 1\\end{bmatrix}\\Bigg\\}$)은 $V$의 orthogonal basis가 된다."
   ]
  },
  {
   "cell_type": "markdown",
   "metadata": {
    "id": "g5pqFJ-f364s"
   },
   "source": [
    "A. False  \n",
    "$V$의 span은 xy 평면이다. $\\Bigg\\{ \\begin{bmatrix} 1 \\\\ 1 \\\\ 0\\end{bmatrix}\\, \\begin{bmatrix} 0 \\\\ 0 \\\\ 1\\end{bmatrix}\\Bigg\\}$은 두 벡터가 직각이긴 하나, span이 xy평면이 아니므로 $V$의 orthogonal basis가 될 수 없다.\n",
    "\n",
    "---\n",
    "\n"
   ]
  },
  {
   "cell_type": "markdown",
   "metadata": {
    "id": "G_7pVdqM37e6"
   },
   "source": [
    "26. 어떤 임의의 n개의 vector set이 주어졌을 때, Gram-Schmidt orthonormalization을 이용하면, 서로 orthonormal한 n개의 vector set으로 만들 수 있다."
   ]
  },
  {
   "cell_type": "markdown",
   "metadata": {
    "id": "lh9vdx1i384j"
   },
   "source": [
    "A. False  \n",
    "n개의 벡터가 모두 선형독립적이어야 한다.\n",
    "\n",
    "---\n",
    "\n"
   ]
  },
  {
   "cell_type": "markdown",
   "metadata": {
    "id": "GsYrYoROGt47"
   },
   "source": [
    "27. $A^TA=0$이면, $A=0$이다."
   ]
  },
  {
   "cell_type": "markdown",
   "metadata": {
    "id": "29ecICTyHxXp"
   },
   "source": [
    "A. True  \n",
    "$A^TA$의 대각 성분은 A 성분의 제곱의 합으로 이루어져있다. $A^TA$가 영행렬이면 각 대각성분이 0이고 제곱의 합이 0이 되려면 모든 성분이 0이 되어야 한다.\n",
    "\n",
    "---\n",
    "\n"
   ]
  },
  {
   "cell_type": "markdown",
   "metadata": {
    "id": "w-NamE7UHyCJ"
   },
   "source": [
    "28.  $x_1=x_3$를 만족하는 vector $x=\\begin{bmatrix}x_1\\\\x_2\\\\x_3\\end{bmatrix}$의 set을 $H$라고 하자. $H$는 $R^3$의 subspace이다."
   ]
  },
  {
   "cell_type": "markdown",
   "metadata": {
    "id": "7ORa6wKLN3L3"
   },
   "source": [
    "A. True  \n",
    "H는 3차원 좌표상에서 x=z를 만족하는 평면이므로 $R^3$의 subspace이다.\n",
    "\n",
    "---\n",
    "\n"
   ]
  },
  {
   "cell_type": "markdown",
   "metadata": {
    "id": "tj1ZH9iQN3_K"
   },
   "source": [
    "29. $x_2=1$를 만족하는 vector $x=\\begin{bmatrix}x_1\\\\x_2\\\\x_3\\end{bmatrix}$의 set을 $H$라고 하자. $H$는 $R^3$의 subspace이다.\n"
   ]
  },
  {
   "cell_type": "markdown",
   "metadata": {
    "id": "QBL2L_fcNMSG"
   },
   "source": [
    "A. False  \n",
    "H는 3차원 좌표상에서 y = 1을 지나는 평면인데, 이는 영벡터를 포함하지 않고, 벡터의 합과 스칼라배에 대해 닫혀있지 않으므로 subspace가 아니다.\n",
    "\n",
    "---\n",
    "\n"
   ]
  },
  {
   "cell_type": "markdown",
   "metadata": {
    "id": "jbbAoZjXOGIZ"
   },
   "source": [
    "30. $x_1x_2=0$를 만족하는 vector $x=\\begin{bmatrix}x_1\\\\x_2\\\\x_3\\end{bmatrix}$의 set을 $H$라고 하자. $H$는 $R^3$의 subspace이다.\n"
   ]
  },
  {
   "cell_type": "markdown",
   "metadata": {
    "id": "pQZ1_R-iOGKW"
   },
   "source": [
    "A. False  \n",
    "x1x2 = 0은 x1 = 0 또는 x2 = 0을 의미하므로, H는 xz평면과 yz평면이 된다. 이는 벡터합에 대해 닫혀있지 않으므로 subspace가 아니다.\n",
    "\n",
    "---\n",
    "\n"
   ]
  },
  {
   "cell_type": "markdown",
   "metadata": {
    "id": "AIqhJvWJOGMX"
   },
   "source": [
    "31. $x_1+x_2+x_3=0$를 만족하는 vector $x=\\begin{bmatrix}x_1\\\\x_2\\\\x_3\\end{bmatrix}$의 set을 $H$라고 하자. $H$는 $R^3$의 subspace이다.\n"
   ]
  },
  {
   "cell_type": "markdown",
   "metadata": {
    "id": "pdIzoVhpOGOQ"
   },
   "source": [
    "A. True  \n",
    "$H = \\begin{bmatrix} 1 & 0 & 0 \\\\ 0 & 1 & 0 \\\\ -1 & -1 & 0 \\end{bmatrix}x$이라고 하자. 이는 영벡터를 포함하고, 벡터의 합과 스칼라배에 대해 닫혀있으므로 subspace이다.\n",
    "\n",
    "---\n",
    "\n"
   ]
  },
  {
   "cell_type": "markdown",
   "metadata": {
    "id": "zx7abeVJPhf_"
   },
   "source": [
    "32. span$\\Bigg\\{\\begin{bmatrix}1 \\\\ 2 \\\\ 3 \\end{bmatrix}, \\begin{bmatrix}1 \\\\ 3 \\\\ 5 \\end{bmatrix} \\Bigg\\}$를  $H$라고 하자. $H$는 $R^3$의 subspace이다.\n"
   ]
  },
  {
   "cell_type": "markdown",
   "metadata": {
    "id": "0s_wTu57O9cG"
   },
   "source": [
    "A. True  \n",
    "span$\\Bigg\\{\\begin{bmatrix}1 \\\\ 2 \\\\ 3 \\end{bmatrix}, \\begin{bmatrix}1 \\\\ 3 \\\\ 5 \\end{bmatrix} \\Bigg\\}$은 영벡터를 포함하고 두 벡터가 linearly independent하므로 subspace이다.\n",
    "\n",
    "---\n",
    "\n"
   ]
  },
  {
   "cell_type": "markdown",
   "metadata": {
    "id": "KSgA0etYQzsW"
   },
   "source": [
    "33. 어떤 vector $x$를 subspace $H$로 orthogonal projection 하는 matrix는 여러 개가 나올 수 있다."
   ]
  },
  {
   "cell_type": "markdown",
   "metadata": {
    "id": "o0UMIr_XQ-8t"
   },
   "source": [
    "A. True  \n",
    "Gram-Schmidt에서 어떤 벡터를 먼저 고정하냐에 따라 여러 개가 나올 수 있다.\n",
    "\n",
    "---\n",
    "\n"
   ]
  },
  {
   "cell_type": "markdown",
   "metadata": {
    "id": "KqQM7cs3RAAS"
   },
   "source": [
    "34. Least square 문제에서 error, $b - Ax$는 0이 나올 수 없다."
   ]
  },
  {
   "cell_type": "markdown",
   "metadata": {
    "id": "K6quBrfQRBbD"
   },
   "source": [
    "A. True  \n",
    "error가 0이라는 것은 b가 Col $A$ 위에 존재한다는 것인데, 그때에는 식을 만족하는 해가 존재하므로, Least square로 근사치를 구할 필요가 없다.\n",
    "\n",
    "---\n",
    "\n"
   ]
  },
  {
   "cell_type": "markdown",
   "metadata": {
    "id": "SKZS9f3PRCEf"
   },
   "source": [
    "35. QR factorization은 square matrix에만 할 수 있다.  "
   ]
  },
  {
   "cell_type": "markdown",
   "metadata": {
    "id": "FNcTLayLRC39"
   },
   "source": [
    "A. False  \n",
    "반례 : Matrix $A = \\begin{bmatrix} 3&1&2&-1\\\\6&2&-2&0\\\\2&4&1&5\\end{bmatrix}$라고 할 때,"
   ]
  },
  {
   "cell_type": "code",
   "execution_count": 7,
   "metadata": {},
   "outputs": [
    {
     "name": "stdout",
     "output_type": "stream",
     "text": [
      "[[-4.28571429e-01 -1.27775313e-01 -8.94427191e-01]\n",
      " [-8.57142857e-01 -2.55550626e-01  4.47213595e-01]\n",
      " [-2.85714286e-01  9.58314847e-01 -1.65361360e-16]]\n",
      "[[-7.         -3.28571429  0.57142857 -1.        ]\n",
      " [ 0.          3.19438282  1.21386547  4.91934955]\n",
      " [ 0.          0.         -2.68328157  0.89442719]]\n"
     ]
    }
   ],
   "source": [
    "A = np.array([[3,1,2,-1],[6,2,-2,0],[2,4,1,5]])\n",
    "Q,R = np.linalg.qr(A)\n",
    "print(Q)\n",
    "print(R)"
   ]
  }
 ],
 "metadata": {
  "colab": {
   "collapsed_sections": [],
   "name": "[Quiz1] Linear algebra.ipynb",
   "provenance": []
  },
  "kernelspec": {
   "display_name": "Python 3 (ipykernel)",
   "language": "python",
   "name": "python3"
  },
  "language_info": {
   "codemirror_mode": {
    "name": "ipython",
    "version": 3
   },
   "file_extension": ".py",
   "mimetype": "text/x-python",
   "name": "python",
   "nbconvert_exporter": "python",
   "pygments_lexer": "ipython3",
   "version": "3.9.7"
  },
  "toc": {
   "base_numbering": 1,
   "nav_menu": {},
   "number_sections": true,
   "sideBar": true,
   "skip_h1_title": false,
   "title_cell": "Table of Contents",
   "title_sidebar": "Contents",
   "toc_cell": false,
   "toc_position": {},
   "toc_section_display": true,
   "toc_window_display": false
  }
 },
 "nbformat": 4,
 "nbformat_minor": 1
}
