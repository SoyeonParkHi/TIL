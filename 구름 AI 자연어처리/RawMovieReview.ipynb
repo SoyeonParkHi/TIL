{
 "cells": [
  {
   "cell_type": "code",
   "execution_count": 26,
   "id": "9f79b09d",
   "metadata": {},
   "outputs": [
    {
     "name": "stdout",
     "output_type": "stream",
     "text": [
      "('도어락', '위기순간에 얼어붙는 주인공 모습 보면 고구마 백개', 7) 1008\n"
     ]
    }
   ],
   "source": [
    "import csv\n",
    "\n",
    "class RawMovieReview : \n",
    "    def __init__(self, file_name : str = 'samples.csv' ) :\n",
    "        self.file_name = file_name\n",
    "    \n",
    "    def __getitem__(self, index) :\n",
    "        with open(self.file_name, 'r', encoding = 'UTF-8') as fd :\n",
    "            reader = csv.reader(fd)\n",
    "            i = -1\n",
    "            row_data = []\n",
    "            for entry in reader : \n",
    "                if i == index :\n",
    "                    for data in entry :\n",
    "                        row_data.append(data)\n",
    "                    return row_data[0],row_data[1], int(row_data[2])\n",
    "                i += 1\n",
    "    def __len__(self) :\n",
    "        with open(self.file_name, 'r', encoding = 'UTF-8') as fd :\n",
    "            reader = csv.reader(fd)\n",
    "            i = 0\n",
    "            for entry in reader : \n",
    "                i += 1\n",
    "            return i"
   ]
  }
 ],
 "metadata": {
  "kernelspec": {
   "display_name": "Python 3 (ipykernel)",
   "language": "python",
   "name": "python3"
  },
  "language_info": {
   "codemirror_mode": {
    "name": "ipython",
    "version": 3
   },
   "file_extension": ".py",
   "mimetype": "text/x-python",
   "name": "python",
   "nbconvert_exporter": "python",
   "pygments_lexer": "ipython3",
   "version": "3.9.7"
  },
  "toc": {
   "base_numbering": 1,
   "nav_menu": {},
   "number_sections": true,
   "sideBar": true,
   "skip_h1_title": false,
   "title_cell": "Table of Contents",
   "title_sidebar": "Contents",
   "toc_cell": false,
   "toc_position": {},
   "toc_section_display": true,
   "toc_window_display": false
  }
 },
 "nbformat": 4,
 "nbformat_minor": 5
}
