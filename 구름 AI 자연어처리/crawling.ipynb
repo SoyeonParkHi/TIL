{
 "cells": [
  {
   "cell_type": "code",
   "execution_count": 59,
   "id": "db930500",
   "metadata": {},
   "outputs": [],
   "source": [
    "import requests\n",
    "from bs4 import BeautifulSoup\n",
    "import time\n",
    "import csv\n",
    "\n",
    "reviewcnt = 0\n",
    "moviereview=[]\n",
    "\n",
    "for page in range(1,500):\n",
    "    URL = 'https://movie.naver.com/movie/point/af/list.naver?&page=' + str(page)\n",
    "    response = requests.get(URL)\n",
    "    \n",
    "    soup = BeautifulSoup(response.content,'html.parser')\n",
    "    reviews = soup.find_all('td',{'class':'title'})\n",
    "    \n",
    "    for review in reviews:\n",
    "        sentence = review.find('a',{'class':'report'}).get(\"onclick\").split(\"', '\")[2]\n",
    "        if sentence :\n",
    "            title = review.find('a',{'class':'movie color_b'}).get_text()\n",
    "            score = review.find('em').get_text()\n",
    "            moviereview.append([title, sentence, int(score)])\n",
    "            reviewcnt += 1       \n",
    "\n",
    "    if reviewcnt >= 1000:                                         \n",
    "        break\n",
    "\n",
    "    time.sleep(0.5)\n",
    "\n",
    "column = ['title','sentence','score']\n",
    "with open('samples.csv', 'w', newline = \"\", encoding = 'utf8') as fd:\n",
    "    writer = csv.writer(fd)\n",
    "    writer.writerow(column)\n",
    "    writer.writerows(moviereview)"
   ]
  }
 ],
 "metadata": {
  "kernelspec": {
   "display_name": "Python 3 (ipykernel)",
   "language": "python",
   "name": "python3"
  },
  "language_info": {
   "codemirror_mode": {
    "name": "ipython",
    "version": 3
   },
   "file_extension": ".py",
   "mimetype": "text/x-python",
   "name": "python",
   "nbconvert_exporter": "python",
   "pygments_lexer": "ipython3",
   "version": "3.9.7"
  },
  "toc": {
   "base_numbering": 1,
   "nav_menu": {},
   "number_sections": true,
   "sideBar": true,
   "skip_h1_title": false,
   "title_cell": "Table of Contents",
   "title_sidebar": "Contents",
   "toc_cell": false,
   "toc_position": {},
   "toc_section_display": true,
   "toc_window_display": false
  }
 },
 "nbformat": 4,
 "nbformat_minor": 5
}
