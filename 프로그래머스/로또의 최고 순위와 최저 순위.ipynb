{
 "cells": [
  {
   "cell_type": "code",
   "execution_count": null,
   "metadata": {},
   "outputs": [],
   "source": [
    "def solution(lottos, win_nums):\n",
    "    answer = []\n",
    "    win = zero_num = 0\n",
    "    \n",
    "    for lotto in lottos :\n",
    "        if lotto == 0 :\n",
    "            zero_num += 1\n",
    "        else :\n",
    "            if lotto in win_nums :\n",
    "                win += 1\n",
    "    \n",
    "    win_max = win + zero_num\n",
    "    \n",
    "    if win_max == 0 :\n",
    "        win_max = 1\n",
    "        \n",
    "    if win == 0 :\n",
    "        win = 1\n",
    "    \n",
    "    answer = [7 - win_max, 7 - win]\n",
    "    return answer"
   ]
  }
 ],
 "metadata": {
  "language_info": {
   "name": "python"
  },
  "orig_nbformat": 4
 },
 "nbformat": 4,
 "nbformat_minor": 2
}
