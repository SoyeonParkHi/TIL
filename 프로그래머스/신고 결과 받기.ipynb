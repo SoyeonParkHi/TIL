{
 "cells": [
  {
   "cell_type": "code",
   "execution_count": 14,
   "metadata": {},
   "outputs": [],
   "source": [
    "def solution(id_list, report, k):\n",
    "    answer = [0] * len(id_list)\n",
    "    reports = dict(zip(id_list, answer))\n",
    "    report = set(report)\n",
    "    \n",
    "    for i in report :\n",
    "        reports[i.split()[1]] += 1\n",
    "        \n",
    "    for j in report :\n",
    "        if reports[j.split()[1]] >= k :\n",
    "            answer[id_list.index(j.split()[0])] += 1\n",
    "    \n",
    "    return answer"
   ]
  }
 ],
 "metadata": {
  "kernelspec": {
   "display_name": "Python 3.9.7 ('base')",
   "language": "python",
   "name": "python3"
  },
  "language_info": {
   "codemirror_mode": {
    "name": "ipython",
    "version": 3
   },
   "file_extension": ".py",
   "mimetype": "text/x-python",
   "name": "python",
   "nbconvert_exporter": "python",
   "pygments_lexer": "ipython3",
   "version": "3.9.7"
  },
  "orig_nbformat": 4,
  "vscode": {
   "interpreter": {
    "hash": "82a4c08b7f05bf0ac0a19aeb7105386f6dbe19562fbb0d76c19962930f1aaa6a"
   }
  }
 },
 "nbformat": 4,
 "nbformat_minor": 2
}
