{
 "cells": [
  {
   "cell_type": "code",
   "execution_count": 81,
   "metadata": {},
   "outputs": [],
   "source": [
    "def solution(new_id):\n",
    "    new_id = new_id.lower()\n",
    "    ban = '~!@#$%^&*()=+[{]}:?,<>/'\n",
    "\n",
    "    for i in new_id :\n",
    "        if i in ban :\n",
    "            new_id = new_id.replace(i, '')\n",
    "        \n",
    "    while ('..' in new_id) :\n",
    "        new_id = new_id.replace('..', '.')\n",
    "            \n",
    "    new_id = new_id.strip('.')\n",
    "    \n",
    "    if new_id == '' :\n",
    "        new_id = 'a'\n",
    "    \n",
    "    new_id = new_id[:15]\n",
    "    new_id = new_id.rstrip('.')\n",
    "\n",
    "    while((len(new_id)) < 3) :\n",
    "        new_id += new_id[-1]\n",
    "\n",
    "    answer = new_id\n",
    "    return answer"
   ]
  }
 ],
 "metadata": {
  "kernelspec": {
   "display_name": "Python 3.9.7 ('base')",
   "language": "python",
   "name": "python3"
  },
  "language_info": {
   "codemirror_mode": {
    "name": "ipython",
    "version": 3
   },
   "file_extension": ".py",
   "mimetype": "text/x-python",
   "name": "python",
   "nbconvert_exporter": "python",
   "pygments_lexer": "ipython3",
   "version": "3.9.7"
  },
  "orig_nbformat": 4,
  "vscode": {
   "interpreter": {
    "hash": "82a4c08b7f05bf0ac0a19aeb7105386f6dbe19562fbb0d76c19962930f1aaa6a"
   }
  }
 },
 "nbformat": 4,
 "nbformat_minor": 2
}
