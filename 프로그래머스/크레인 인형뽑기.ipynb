{
 "cells": [
  {
   "cell_type": "code",
   "execution_count": 24,
   "metadata": {},
   "outputs": [],
   "source": [
    "def solution(board, moves):\n",
    "    answer = 0\n",
    "    basket = []\n",
    "    for move in moves :\n",
    "        for j in range(len(board)) :\n",
    "            if board[j][move - 1] != 0 :\n",
    "                basket.append(board[j][move - 1])\n",
    "                board[j][move - 1] -= board[j][move - 1]\n",
    "                \n",
    "                if len(basket) > 1 :\n",
    "                    if basket[-1] == basket[-2] :\n",
    "                        answer += 2\n",
    "                        basket = basket[:-2]\n",
    "                break\n",
    "    return answer"
   ]
  }
 ],
 "metadata": {
  "kernelspec": {
   "display_name": "Python 3.9.7 ('base')",
   "language": "python",
   "name": "python3"
  },
  "language_info": {
   "codemirror_mode": {
    "name": "ipython",
    "version": 3
   },
   "file_extension": ".py",
   "mimetype": "text/x-python",
   "name": "python",
   "nbconvert_exporter": "python",
   "pygments_lexer": "ipython3",
   "version": "3.9.7"
  },
  "orig_nbformat": 4,
  "vscode": {
   "interpreter": {
    "hash": "82a4c08b7f05bf0ac0a19aeb7105386f6dbe19562fbb0d76c19962930f1aaa6a"
   }
  }
 },
 "nbformat": 4,
 "nbformat_minor": 2
}
